{
 "cells": [
  {
   "cell_type": "code",
   "execution_count": null,
   "id": "a2d2c267",
   "metadata": {
    "vscode": {
     "languageId": "plaintext"
    }
   },
   "outputs": [],
   "source": [
    "import sys, os\n",
    "sys.path.append(os.path.dirname(os.path.dirname(os.path.abspath(__file__))))\n",
    "\n",
    "\n",
    "from rag.pdf_utils import extract_text_from_pdf\n",
    "\n",
    "if __name__ == \"__main__\":\n",
    "    text = extract_text_from_pdf(\"data/pdfs/2508.10123v1.pdf\")\n",
    "    print(text[:500])  # 打印前 500 个字符\n",
    "\n",
    "from rag.text_utils import chunk_text\n",
    "chunks =  chunk_text(text)\n",
    "print(len(chunks), chunks[0][:100])"
   ]
  },
  {
   "cell_type": "code",
   "execution_count": null,
   "id": "4af4eaea",
   "metadata": {
    "vscode": {
     "languageId": "plaintext"
    }
   },
   "outputs": [],
   "source": [
    "from rag.embed_utils import Embedder\n",
    "embedder = Embedder()\n",
    "vecs = embedder.embed_chunks(chunks[:5])\n",
    "print(vecs.shape) # (5, 384) "
   ]
  },
  {
   "cell_type": "code",
   "execution_count": null,
   "id": "e440f0e4",
   "metadata": {
    "vscode": {
     "languageId": "plaintext"
    }
   },
   "outputs": [],
   "source": [
    "import numpy as np\n",
    "from rag.index_utils import build_faiss_index, search_faiss"
   ]
  },
  {
   "cell_type": "code",
   "execution_count": null,
   "id": "f1e2ddb4",
   "metadata": {
    "vscode": {
     "languageId": "plaintext"
    }
   },
   "outputs": [],
   "source": [
    "index = build_faiss_index(vecs)\n",
    "D, I = search_faiss(index, vecs[:1], k=3)\n",
    "print(I, D)"
   ]
  }
 ],
 "metadata": {
  "language_info": {
   "name": "python"
  }
 },
 "nbformat": 4,
 "nbformat_minor": 5
}
